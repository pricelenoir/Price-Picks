{
 "cells": [
  {
   "cell_type": "code",
   "execution_count": 1,
   "id": "bd85bd61-824f-4740-a9cb-f407cda29acf",
   "metadata": {
    "tags": []
   },
   "outputs": [],
   "source": [
    "import numpy as np\n",
    "import pandas as pd\n",
    "import torch\n",
    "import torch.nn as nn\n",
    "import torch.optim as optim\n",
    "from sklearn.model_selection import train_test_split\n",
    "from sklearn.metrics import mean_absolute_error\n",
    "from sklearn.preprocessing import MinMaxScaler"
   ]
  },
  {
   "cell_type": "code",
   "execution_count": 2,
   "id": "762bde06-80b7-4138-8ae8-a397deba0997",
   "metadata": {
    "tags": []
   },
   "outputs": [],
   "source": [
    "nba_df = pd.read_csv('nba_games.csv', index_col=0)"
   ]
  },
  {
   "cell_type": "code",
   "execution_count": 3,
   "id": "150214a8-b1da-4ab0-a48d-cbeda2110927",
   "metadata": {
    "tags": []
   },
   "outputs": [],
   "source": [
    "# Extract the numerical columns for normalization\n",
    "numerical_columns = nba_df.columns.difference(['team', 'team_opp', 'season', 'date', 'total', 'won'])\n",
    "\n",
    "# Normalize the numerical values using Min-Max scaling\n",
    "scaler = MinMaxScaler()\n",
    "nba_df[numerical_columns] = scaler.fit_transform(nba_df[numerical_columns])"
   ]
  },
  {
   "cell_type": "code",
   "execution_count": 4,
   "id": "ae030243-3625-49bb-be61-6dac137171d5",
   "metadata": {
    "tags": []
   },
   "outputs": [],
   "source": [
    "# Define your custom neural network class\n",
    "class NBAPredictor(nn.Module):\n",
    "    def __init__(self, input_size):\n",
    "        super(NBAPredictor, self).__init__()\n",
    "        self.fc1 = nn.Linear(input_size, 32)\n",
    "        self.relu = nn.ReLU()\n",
    "        self.dropout = nn.Dropout(0.2)\n",
    "        self.fc2 = nn.Linear(32, 1)\n",
    "\n",
    "    def forward(self, x):\n",
    "        x = self.fc1(x)\n",
    "        x = self.relu(x)\n",
    "        x = self.dropout(x)\n",
    "        x = self.fc2(x)\n",
    "        return x"
   ]
  },
  {
   "cell_type": "code",
   "execution_count": 5,
   "id": "c512aff2-fd5d-41da-8a10-dc59c1e57bb9",
   "metadata": {
    "tags": []
   },
   "outputs": [],
   "source": [
    "X = nba_df.drop(['team', 'team_opp', 'season', 'date', 'total', 'won'], axis=1).values\n",
    "Y = nba_df['total'].values\n",
    "\n",
    "X_train, X_test, Y_train, Y_test = train_test_split(X, Y, test_size=0.8, random_state=321)\n",
    "\n",
    "# Convert data to PyTorch tensors\n",
    "X_train_tensor = torch.FloatTensor(X_train)\n",
    "Y_train_tensor = torch.FloatTensor(Y_train)\n",
    "X_test_tensor = torch.FloatTensor(X_test)\n",
    "Y_test_tensor = torch.FloatTensor(Y_test)\n",
    "\n",
    "# Create an instance of the neural network\n",
    "model = NBAPredictor(input_size=X_train.shape[1])\n",
    "\n",
    "# Define loss function and optimizer\n",
    "criterion = nn.MSELoss()\n",
    "optimizer = optim.Adam(model.parameters())"
   ]
  },
  {
   "cell_type": "code",
   "execution_count": 6,
   "id": "1740b661-c22a-42db-9c24-dca7562f823e",
   "metadata": {
    "tags": []
   },
   "outputs": [
    {
     "name": "stdout",
     "output_type": "stream",
     "text": [
      "Mean Absolute Error: 1.6299976\n"
     ]
    }
   ],
   "source": [
    "# Training loop\n",
    "num_epochs = 60\n",
    "batch_size = 10\n",
    "\n",
    "for epoch in range(num_epochs):\n",
    "    for i in range(0, len(X_train), batch_size):\n",
    "        inputs = X_train_tensor[i:i+batch_size]\n",
    "        targets = Y_train_tensor[i:i+batch_size].view(-1, 1)\n",
    "\n",
    "        optimizer.zero_grad()\n",
    "        outputs = model(inputs)\n",
    "        loss = criterion(outputs, targets)\n",
    "        loss.backward()\n",
    "        optimizer.step()\n",
    "\n",
    "# Evaluate the model\n",
    "model.eval()\n",
    "with torch.no_grad():\n",
    "    test_pred = model(X_test_tensor)\n",
    "    mae = mean_absolute_error(Y_test_tensor.numpy(), test_pred.numpy())\n",
    "\n",
    "print(\"Mean Absolute Error:\", mae)"
   ]
  },
  {
   "cell_type": "code",
   "execution_count": 7,
   "id": "68da23a7-c9ff-43a9-90e9-461f1b21ad47",
   "metadata": {
    "tags": []
   },
   "outputs": [],
   "source": [
    "torch.save(model.state_dict(), 'NBA_model.pth')"
   ]
  }
 ],
 "metadata": {
  "kernelspec": {
   "display_name": "Python 3 (ipykernel)",
   "language": "python",
   "name": "python3"
  },
  "language_info": {
   "codemirror_mode": {
    "name": "ipython",
    "version": 3
   },
   "file_extension": ".py",
   "mimetype": "text/x-python",
   "name": "python",
   "nbconvert_exporter": "python",
   "pygments_lexer": "ipython3",
   "version": "3.11.5"
  }
 },
 "nbformat": 4,
 "nbformat_minor": 5
}
