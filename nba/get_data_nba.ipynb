{
 "cells": [
  {
   "cell_type": "markdown",
   "id": "bf6d2756-4e60-4f9f-9f0e-58b234251c54",
   "metadata": {},
   "source": [
    "This script downloads the entire season webpage from basketball-reference.com to a standings directory on your local machine. These HTML files will be parsed for individual box scores."
   ]
  },
  {
   "cell_type": "code",
   "execution_count": 1,
   "id": "120ad588-c415-4257-b3d1-a3868b0303d6",
   "metadata": {
    "tags": []
   },
   "outputs": [],
   "source": [
    "import os\n",
    "from bs4 import BeautifulSoup\n",
    "from playwright.async_api import async_playwright, TimeoutError as PlaywrightTimeout\n",
    "import time"
   ]
  },
  {
   "cell_type": "code",
   "execution_count": 2,
   "id": "e1526ba4-8108-4118-a003-80af037e95a3",
   "metadata": {
    "tags": []
   },
   "outputs": [],
   "source": [
    "SEASONS = list(range(2016,2024)) # Define constant list of seasons"
   ]
  },
  {
   "cell_type": "code",
   "execution_count": 3,
   "id": "7c79329e-d075-4130-b146-8bab24a2eb38",
   "metadata": {
    "tags": []
   },
   "outputs": [],
   "source": [
    "# Directory named data with 2 subdirectories: standings and scores\n",
    "# Join paths\n",
    "DATA_DIR = \"data\"\n",
    "STANDINGS_DIR = os.path.join(DATA_DIR, \"standings\")\n",
    "SCORES_DIR = os.path.join(DATA_DIR, \"scores\")"
   ]
  },
  {
   "cell_type": "code",
   "execution_count": 4,
   "id": "5fe5ddcc-4b71-401d-ac8e-af8839fabbbd",
   "metadata": {
    "tags": []
   },
   "outputs": [],
   "source": [
    "async def get_html(url, selector, sleep = 5, retries = 3):\n",
    "    # Selector will be a CSS selector (ID that's used to locate unique element within the html)\n",
    "    html = None\n",
    "    for i in range(1, retries+1): # Increments more time to avoid sending to many requests and getting banned\n",
    "        time.sleep(sleep * i)\n",
    "        # Logic to handle errors when web scraping\n",
    "        try:\n",
    "            async with async_playwright() as p:\n",
    "                browser = await p.firefox.launch() # Can also use p.chromium.launch()\n",
    "                page = await browser.new_page()\n",
    "                await page.goto(url)\n",
    "                print(await page.title())\n",
    "                html = await page.inner_html(selector)\n",
    "        except PlaywrightTimeout:\n",
    "            print(f\"Timeout error on {url}\")\n",
    "            continue\n",
    "        else:\n",
    "            break\n",
    "    return html"
   ]
  },
  {
   "cell_type": "code",
   "execution_count": 5,
   "id": "24794012-6311-4e33-a6b2-d4ef9129fe14",
   "metadata": {
    "tags": []
   },
   "outputs": [],
   "source": [
    "async def scrape_season(season):\n",
    "    url = f\"https://www.basketball-reference.com/leagues/NBA_{season}_games.html\"\n",
    "    html = await get_html(url, \"#content .filter\")\n",
    "    \n",
    "    # Create links for each individual standings page\n",
    "    soup = BeautifulSoup(html) # Create an instance of the BeautifulSoup class\n",
    "    links = soup.find_all(\"a\") # Finds all \"a\" (anchor) tags\n",
    "    href = [l[\"href\"] for l in links] # Grab href part of the anchor tag\n",
    "    standings_pages = [f\"https://basketball-reference.com{l}\" for l in href] # Adds link to complete full URL\n",
    "    \n",
    "    for url in standings_pages:\n",
    "        save_path = os.path.join(STANDINGS_DIR, url.split(\"/\")[-1])\n",
    "        if os.path.exists(save_path): # Check that we are not scraping data that has already been scraped\n",
    "            continue\n",
    "            \n",
    "        html = await get_html(url, \"#all_schedule\") # Div element right outside of the table we are looking for\n",
    "        with open(save_path, \"w+\") as f:\n",
    "            f.write(html)"
   ]
  },
  {
   "cell_type": "code",
   "execution_count": 15,
   "id": "d2f94238-616b-4092-9662-1b257f982012",
   "metadata": {
    "tags": []
   },
   "outputs": [
    {
     "name": "stdout",
     "output_type": "stream",
     "text": [
      "2015-16 NBA Schedule | Basketball-Reference.com\n",
      "2016-17 NBA Schedule | Basketball-Reference.com\n",
      "2017-18 NBA Schedule | Basketball-Reference.com\n",
      "2018-19 NBA Schedule | Basketball-Reference.com\n",
      "2019-20 NBA Schedule | Basketball-Reference.com\n",
      "2020-21 NBA Schedule | Basketball-Reference.com\n",
      "2021-22 NBA Schedule | Basketball-Reference.com\n",
      "2022-23 NBA Schedule | Basketball-Reference.com\n"
     ]
    }
   ],
   "source": [
    "# Loop to download each season schedule page\n",
    "for season in SEASONS:\n",
    "    await scrape_season(season)"
   ]
  },
  {
   "cell_type": "code",
   "execution_count": 16,
   "id": "2c7d7c4a-01b8-40a7-9962-2cbb98f25706",
   "metadata": {
    "tags": []
   },
   "outputs": [],
   "source": [
    "standings_files = os.listdir(STANDINGS_DIR)"
   ]
  },
  {
   "cell_type": "code",
   "execution_count": 17,
   "id": "b5457820-bda1-44ec-979d-50d2cee043cf",
   "metadata": {
    "tags": []
   },
   "outputs": [],
   "source": [
    "async def scrape_game(standings_file):\n",
    "    with open(standings_file, 'r') as f:\n",
    "        html = f.read()\n",
    "\n",
    "    soup = BeautifulSoup(html)\n",
    "    links = soup.find_all(\"a\") # Finds all \"a\" (anchor) tags\n",
    "    hrefs = [l.get(\"href\") for l in links] # Grab href part of the anchor tag\n",
    "\n",
    "    box_scores = [l for l in hrefs if l and \"boxscore\" in l and \".html\" in l] # Check for non-empty tag w/ \"boxscore\" and \".html\"\n",
    "    box_scores = [f\"https://basketball-reference.com{l}\" for l in box_scores]\n",
    "\n",
    "    for url in box_scores:\n",
    "        save_path = os.path.join(SCORES_DIR, url.split(\"/\")[-1])\n",
    "        if os.path.exists(save_path):\n",
    "            continue\n",
    "\n",
    "        html = await get_html(url, \"#content\")\n",
    "        if not html:\n",
    "            continue\n",
    "        with open(save_path, \"w+\") as f:\n",
    "            f.write(html)"
   ]
  },
  {
   "cell_type": "code",
   "execution_count": 18,
   "id": "fd0297ed-2403-499d-b425-1c345d49529d",
   "metadata": {
    "tags": []
   },
   "outputs": [],
   "source": [
    "standings_files = [s for s in standings_files if \".html\" in s] # Checks for any non-html error files"
   ]
  },
  {
   "cell_type": "code",
   "execution_count": 19,
   "id": "bb9c3459-2e54-4cda-8662-3c2d55065279",
   "metadata": {
    "tags": []
   },
   "outputs": [],
   "source": [
    "# Loop to iterate through standings directory and scrape each individual box score page\n",
    "for f in standings_files:\n",
    "    filepath = os.path.join(STANDINGS_DIR, f)\n",
    "    await scrape_game(filepath)"
   ]
  }
 ],
 "metadata": {
  "kernelspec": {
   "display_name": "Python 3 (ipykernel)",
   "language": "python",
   "name": "python3"
  },
  "language_info": {
   "codemirror_mode": {
    "name": "ipython",
    "version": 3
   },
   "file_extension": ".py",
   "mimetype": "text/x-python",
   "name": "python",
   "nbconvert_exporter": "python",
   "pygments_lexer": "ipython3",
   "version": "3.11.5"
  }
 },
 "nbformat": 4,
 "nbformat_minor": 5
}
