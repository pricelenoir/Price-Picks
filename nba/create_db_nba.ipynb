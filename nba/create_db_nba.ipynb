{
 "cells": [
  {
   "cell_type": "code",
   "execution_count": 7,
   "id": "388d932b-4dab-44d0-8c37-01a78ce7956f",
   "metadata": {},
   "outputs": [
    {
     "name": "stdout",
     "output_type": "stream",
     "text": [
      "Connected to PostgreSQL database.\n"
     ]
    }
   ],
   "source": [
    "# Import psycopg2: PostgreSQL database adapter\n",
    "import psycopg2\n",
    "import csv\n",
    "\n",
    "try:\n",
    "    # Establish a connection to the PostgreSQL database\n",
    "    connection = psycopg2.connect(\n",
    "        host = 'localhost',\n",
    "        dbname = 'nba',\n",
    "        user = 'postgres',\n",
    "        password = 'Plenoir2002!', # Remove password before pushing to GitHub\n",
    "        port = 5432\n",
    "    )\n",
    "    print(\"Connected to PostgreSQL database.\")\n",
    "except (Exception, psycopg2.Error) as error:\n",
    "    print(\"Error connecting to PostgreSQL database: \", error)"
   ]
  },
  {
   "cell_type": "code",
   "execution_count": 8,
   "id": "ad8309b9-8def-4ce4-bfd2-a4297dfd58a2",
   "metadata": {},
   "outputs": [],
   "source": [
    "# Create a cursor object to interact with the database\n",
    "cursor = connection.cursor()"
   ]
  },
  {
   "cell_type": "code",
   "execution_count": 9,
   "id": "0e964450-c759-480a-a4c7-b71e49f7e501",
   "metadata": {},
   "outputs": [],
   "source": [
    "# SQL command to initialize new table\n",
    "create_script = '''\n",
    "CREATE TABLE IF NOT EXISTS nba_data (\n",
    "    gameid FLOAT,\n",
    "    mp FLOAT,\n",
    "    team VARCHAR(255),\n",
    "    total INT,\n",
    "    home INT,\n",
    "    season INT,\n",
    "    date DATE,\n",
    "    won BOOLEAN,\n",
    "    fg FLOAT,\n",
    "    fga FLOAT,\n",
    "    fg_percent FLOAT,\n",
    "    fg_3p FLOAT,\n",
    "    fg_3pa FLOAT,\n",
    "    fg_3p_percent FLOAT,\n",
    "    ft FLOAT,\n",
    "    fta FLOAT,\n",
    "    ft_percent FLOAT,\n",
    "    orb FLOAT,\n",
    "    drb FLOAT,\n",
    "    trb FLOAT,\n",
    "    ast FLOAT,\n",
    "    stl FLOAT,\n",
    "    blk FLOAT,\n",
    "    tov FLOAT,\n",
    "    pf FLOAT,\n",
    "    ts_percent FLOAT,\n",
    "    efg_percent FLOAT,\n",
    "    fg_3par FLOAT,\n",
    "    ftr FLOAT,\n",
    "    orb_percent FLOAT,\n",
    "    drb_percent FLOAT,\n",
    "    trb_percent FLOAT,\n",
    "    ast_percent FLOAT,\n",
    "    stl_percent FLOAT,\n",
    "    blk_percent FLOAT,\n",
    "    tov_percent FLOAT,\n",
    "    ortg FLOAT,\n",
    "    drtg FLOAT,\n",
    "    team_opp VARCHAR(255),\n",
    "    total_opp INT,\n",
    "    home_opp INT,\n",
    "    fg_opp FLOAT,\n",
    "    fga_opp FLOAT,\n",
    "    fg_percent_opp FLOAT,\n",
    "    fg_3p_opp FLOAT,\n",
    "    fg_3pa_opp FLOAT,\n",
    "    fg_3p_percent_opp FLOAT,\n",
    "    ft_opp FLOAT,\n",
    "    fta_opp FLOAT,\n",
    "    ft_percent_opp FLOAT,\n",
    "    orb_opp FLOAT,\n",
    "    drb_opp FLOAT,\n",
    "    trb_opp FLOAT,\n",
    "    ast_opp FLOAT,\n",
    "    stl_opp FLOAT,\n",
    "    blk_opp FLOAT,\n",
    "    tov_opp FLOAT,\n",
    "    pf_opp FLOAT,\n",
    "    ts_percent_opp FLOAT,\n",
    "    efg_percent_opp FLOAT,\n",
    "    fg_3par_opp FLOAT,\n",
    "    ftr_opp FLOAT,\n",
    "    orb_percent_opp FLOAT,\n",
    "    drb_percent_opp FLOAT,\n",
    "    trb_percent_opp FLOAT,\n",
    "    ast_percent_opp FLOAT,\n",
    "    stl_percent_opp FLOAT,\n",
    "    blk_percent_opp FLOAT,\n",
    "    tov_percent_opp FLOAT,\n",
    "    ortg_opp FLOAT,\n",
    "    drtg_opp FLOAT\n",
    ");\n",
    "'''\n",
    "\n",
    "cursor.execute(create_script)\n",
    "connection.commit()"
   ]
  },
  {
   "cell_type": "code",
   "execution_count": 10,
   "id": "5eb4fc20-5d44-418c-bba5-162fd0125721",
   "metadata": {},
   "outputs": [
    {
     "name": "stdout",
     "output_type": "stream",
     "text": [
      "CSV data has been inserted into the PostgreSQL database.\n"
     ]
    }
   ],
   "source": [
    "csv_file_path = 'nba_games.csv'\n",
    "\n",
    "# Read the CSV file and insert data into the database\n",
    "with open(csv_file_path, 'r') as file:\n",
    "    reader = csv.reader(file)\n",
    "    header = next(reader)\n",
    "\n",
    "    # Modify the header list to include the name for the first column\n",
    "    header[0] = 'gameid'\n",
    "    \n",
    "    # Generate the column names and placeholders for SQL query\n",
    "    column_names = ','.join(header)\n",
    "    placeholders = ','.join(['%s'] * len(header))\n",
    "    insert_script = f\"INSERT INTO nba_data ({column_names}) VALUES ({placeholders})\"\n",
    "\n",
    "    for row in reader:\n",
    "        cursor.execute(insert_script, row)\n",
    "\n",
    "connection.commit()\n",
    "\n",
    "# Close the cursor and the connection\n",
    "cursor.close()\n",
    "connection.close()\n",
    "\n",
    "print(\"CSV data has been inserted into the PostgreSQL database.\")"
   ]
  }
 ],
 "metadata": {
  "kernelspec": {
   "display_name": "Python 3 (ipykernel)",
   "language": "python",
   "name": "python3"
  },
  "language_info": {
   "codemirror_mode": {
    "name": "ipython",
    "version": 3
   },
   "file_extension": ".py",
   "mimetype": "text/x-python",
   "name": "python",
   "nbconvert_exporter": "python",
   "pygments_lexer": "ipython3",
   "version": "3.11.4"
  }
 },
 "nbformat": 4,
 "nbformat_minor": 5
}
