{
 "cells": [
  {
   "cell_type": "markdown",
   "id": "c2f6213e-8fd0-4ba9-bf58-88dcfcc65970",
   "metadata": {},
   "source": [
    "This is the script that will actually query data and read in the machine learning model to output predictions. The weekly_run script needs to be run before to pull the most recent boxscores."
   ]
  },
  {
   "cell_type": "code",
   "execution_count": 1,
   "id": "f1c91cf3-4946-466f-89d4-0f775cebf5d3",
   "metadata": {
    "tags": []
   },
   "outputs": [],
   "source": [
    "import os\n",
    "from datetime import datetime, timedelta\n",
    "import time\n",
    "import pandas as pd\n",
    "import psycopg2\n",
    "from sklearn.preprocessing import MinMaxScaler\n",
    "import torch\n",
    "import torch.nn as nn\n",
    "from torch.utils.data import DataLoader, TensorDataset"
   ]
  },
  {
   "cell_type": "code",
   "execution_count": 2,
   "id": "60fa2433-02d8-4bb2-a618-d791a3d36f82",
   "metadata": {
    "tags": []
   },
   "outputs": [],
   "source": [
    "# Set current date and determine how many days to filter the run\n",
    "season = 2023\n",
    "filter_days = 200\n",
    "\n",
    "current_date = datetime.today().strftime(\"%Y-%m-%d\")\n",
    "start_date = (datetime.today() - timedelta(days=filter_days)).strftime(\"%Y-%m-%d\")"
   ]
  },
  {
   "cell_type": "code",
   "execution_count": 3,
   "id": "fbf185a3-8619-4076-a7ff-cd95a5765877",
   "metadata": {
    "tags": []
   },
   "outputs": [],
   "source": [
    "current_date = '2023-12-16'"
   ]
  },
  {
   "cell_type": "code",
   "execution_count": 4,
   "id": "97f50d23-326d-4567-bd8f-53868218f753",
   "metadata": {},
   "outputs": [],
   "source": [
    "# Specify the number of games to average\n",
    "num_games_average = 3"
   ]
  },
  {
   "cell_type": "code",
   "execution_count": 5,
   "id": "954ad6aa-cf7a-421c-a6cd-7696699267c4",
   "metadata": {
    "tags": []
   },
   "outputs": [
    {
     "name": "stdout",
     "output_type": "stream",
     "text": [
      "Connected to PostgreSQL database.\n"
     ]
    }
   ],
   "source": [
    "try:\n",
    "    # Establish a connection to the PostgreSQL database\n",
    "    connection = psycopg2.connect(\n",
    "        host = \"localhost\",\n",
    "        dbname = \"nfl\",\n",
    "        user = \"postgres\",\n",
    "        password = \"Plenoir2002!\", # Include correct password\n",
    "        port = 5432\n",
    "    )\n",
    "    print(\"Connected to PostgreSQL database.\")\n",
    "except (Exception, psycopg2.Error) as error:\n",
    "    print(\"Error connecting to PostgreSQL database: \", error)\n",
    "\n",
    "# Create a cursor object to interact with the database\n",
    "cursor = connection.cursor()"
   ]
  },
  {
   "cell_type": "code",
   "execution_count": 6,
   "id": "dbb49ee9-6521-4de9-8d55-14e7d3b6d806",
   "metadata": {
    "tags": []
   },
   "outputs": [],
   "source": [
    "# Query to fetch column names from the nfl_data table\n",
    "query = \"\"\"\n",
    "    SELECT column_name \n",
    "    FROM information_schema.columns \n",
    "    WHERE table_name = 'nfl_data'\n",
    "    ORDER BY ordinal_position;\n",
    "\"\"\"\n",
    "\n",
    "cursor.execute(query)\n",
    "\n",
    "column_names = [column[0] for column in cursor.fetchall()]\n",
    "\n",
    "# Initialize an empty Pandas DataFrame with the fetched column names\n",
    "nfl_df = pd.DataFrame(columns=column_names)"
   ]
  },
  {
   "cell_type": "code",
   "execution_count": 7,
   "id": "01f836b4-45c2-4acc-b807-ba2a9b57c5bc",
   "metadata": {
    "tags": []
   },
   "outputs": [],
   "source": [
    "# Execute your query to fetch data from the nfl_data table for the specified date range\n",
    "game_query = f\"\"\"\n",
    "    SELECT gameid, tm, home, won, season, date, tm_opp\n",
    "    FROM nfl_data\n",
    "    WHERE Date BETWEEN '{start_date}' AND '{current_date}';\n",
    "\"\"\"\n",
    "\n",
    "cursor.execute(game_query)\n",
    "\n",
    "rows = cursor.fetchall()\n",
    "\n",
    "column_names = [desc[0] for desc in cursor.description]\n",
    "\n",
    "# Convert the fetched data to a Pandas DataFrame\n",
    "df_filtered = pd.DataFrame(rows, columns=column_names)\n",
    "\n",
    "# Append the filtered data to the existing nfl_df DataFrame\n",
    "nfl_df = pd.concat([nfl_df, df_filtered], ignore_index=True)"
   ]
  },
  {
   "cell_type": "code",
   "execution_count": 8,
   "id": "228b3a05-0eb2-4723-9d86-de7b6748e519",
   "metadata": {
    "tags": []
   },
   "outputs": [],
   "source": [
    "offensive_stats = nfl_df.loc[:, 'frdwns':'fga']\n",
    "defensive_stats = nfl_df.loc[:, 'score_opp':'fga_opp']\n",
    "\n",
    "# Create empty pandas DF\n",
    "col_names = list(offensive_stats.columns) + list(defensive_stats.columns)\n",
    "testing_df = pd.DataFrame(columns=col_names)"
   ]
  },
  {
   "cell_type": "code",
   "execution_count": 9,
   "id": "199b5520-cb62-4aab-9fa2-aa56299f326a",
   "metadata": {},
   "outputs": [],
   "source": [
    "# Function to calculate the rolling average for a team\n",
    "def calculate_rolling_average(offensive_team, defensive_opponent, current_date, num_games_avg):\n",
    "    # SQL query to fetch the previous games for the offensive team\n",
    "    offense_query = f\"\"\"\n",
    "    SELECT {', '.join(offensive_stats)}\n",
    "    FROM {offensive_team}\n",
    "    WHERE date < %s\n",
    "    ORDER BY date DESC\n",
    "    LIMIT %s;\n",
    "    \"\"\"\n",
    "    \n",
    "    cursor.execute(offense_query, (current_date, num_games_avg))\n",
    "    offense_games = cursor.fetchall()\n",
    "\n",
    "    # SQL query to fetch the previous games for the defensive opponent\n",
    "    defense_query = f\"\"\"\n",
    "    SELECT {', '.join(defensive_stats)}\n",
    "    FROM {defensive_opponent}\n",
    "    WHERE date < %s\n",
    "    ORDER BY date DESC\n",
    "    LIMIT %s;\n",
    "    \"\"\"\n",
    "    cursor.execute(defense_query, (current_date, num_games_avg))\n",
    "    defense_games = cursor.fetchall()\n",
    "\n",
    "    # Calculate the average for each defensive stat and convert to tuple\n",
    "    avg_offense_game = tuple(round(sum(col) / len(col), 2) for col in zip(*offense_games))\n",
    "    avg_defense_game = tuple(round(sum(col) / len(col), 2) for col in zip(*defense_games))\n",
    "\n",
    "    # Concatenate the offensive and defensive values from the previous games (rounded to 2 decimal pts)\n",
    "    game_avgs = avg_offense_game + avg_defense_game\n",
    "\n",
    "    return game_avgs"
   ]
  },
  {
   "cell_type": "code",
   "execution_count": 10,
   "id": "40d7a541-f9cf-46ac-b618-8b6f573266d0",
   "metadata": {},
   "outputs": [],
   "source": [
    "# Iterate through your data and populate the new DataFrame from the start date\n",
    "for index, row in nfl_df.iterrows():\n",
    "    team = row['tm']\n",
    "    opponent = row['tm_opp']\n",
    "    current_date = row['date']\n",
    "    \n",
    "    avg_values = calculate_rolling_average(team, opponent, current_date, num_games_average)\n",
    "    testing_df.loc[index] = avg_values"
   ]
  },
  {
   "cell_type": "code",
   "execution_count": 11,
   "id": "4d0030de-a72d-4373-87bb-0121867e60bf",
   "metadata": {
    "tags": []
   },
   "outputs": [],
   "source": [
    "# Your SQL query\n",
    "score_query = \"SELECT gameid, score FROM nfl_data WHERE gameid IN %s;\"\n",
    "\n",
    "# Loop through each row in the DataFrame\n",
    "for index, row in nfl_df.iterrows():\n",
    "    gameid = row['gameid']\n",
    "\n",
    "    # Execute the SQL query for the current gameid\n",
    "    with connection.cursor() as cursor:\n",
    "        cursor.execute(score_query, ((gameid,),))\n",
    "        result = cursor.fetchone()\n",
    "\n",
    "        if result:\n",
    "            # Update the 'score' column in the DataFrame\n",
    "            nfl_df.at[index, 'score'] = result[1]  # Assuming 'score' is the second column in the query result\n"
   ]
  },
  {
   "cell_type": "code",
   "execution_count": 12,
   "id": "05ce34cf-be20-4be0-afdf-a13c87d963f7",
   "metadata": {
    "tags": []
   },
   "outputs": [],
   "source": [
    "# Close the cursor and connection\n",
    "cursor.close()\n",
    "connection.close()"
   ]
  },
  {
   "cell_type": "code",
   "execution_count": 13,
   "id": "6a9738fe-8feb-42d6-86e2-620ba7781280",
   "metadata": {
    "tags": []
   },
   "outputs": [],
   "source": [
    "nfl_df = nfl_df[['gameid', 'tm', 'home', 'won', 'season', 'date', 'tm_opp', 'score']]\n",
    "nfl_df = pd.concat([nfl_df, testing_df], axis=1)"
   ]
  },
  {
   "cell_type": "code",
   "execution_count": 14,
   "id": "3e8a2e6f-ace9-4db3-9446-23eb55ccb318",
   "metadata": {},
   "outputs": [],
   "source": [
    "# Extract the numerical columns for normalization\n",
    "numerical_columns = nfl_df.columns.difference(['gameid', 'tm', 'tm_opp', 'date', 'home', 'won', 'season', 'score'])\n",
    "\n",
    "# Normalize the numerical values using Min-Max scaling\n",
    "scaler = MinMaxScaler()\n",
    "nfl_df[numerical_columns] = scaler.fit_transform(nfl_df[numerical_columns])"
   ]
  },
  {
   "cell_type": "code",
   "execution_count": 15,
   "id": "d60da669-2f5d-4e45-8cfd-250d8a27b32c",
   "metadata": {
    "tags": []
   },
   "outputs": [],
   "source": [
    "# Define your custom neural network class\n",
    "class NFLPredictor(nn.Module):\n",
    "    def __init__(self, input_size):\n",
    "        super(NFLPredictor, self).__init__()\n",
    "        self.fc1 = nn.Linear(input_size, 16)\n",
    "        self.relu = nn.ReLU()\n",
    "        self.dropout = nn.Dropout(0.2)\n",
    "        self.fc2 = nn.Linear(16, 1)\n",
    "\n",
    "    def forward(self, x):\n",
    "        x = self.fc1(x)\n",
    "        x = self.relu(x)\n",
    "        x = self.dropout(x)\n",
    "        x = self.fc2(x)\n",
    "        return x"
   ]
  },
  {
   "cell_type": "code",
   "execution_count": 17,
   "id": "a5e85bf5-9c59-4408-b144-005ceb148721",
   "metadata": {
    "tags": []
   },
   "outputs": [],
   "source": [
    "# Load the pre-trained PyTorch model\n",
    "model_path = 'NFL_model.pth'\n",
    "model = NFLPredictor(input_size=60)  # Replace with the actual input size\n",
    "model.load_state_dict(torch.load(model_path))\n",
    "model.eval()\n",
    "\n",
    "X = nfl_df.drop(['gameid', 'tm', 'tm_opp', 'won', 'season', 'score', 'date'], axis=1).values\n",
    "X_tensor = torch.FloatTensor(X)\n",
    "\n",
    "# Make predictions\n",
    "with torch.no_grad():\n",
    "    predictions = model(X_tensor).numpy()\n",
    "    \n",
    "\n",
    "# Add predictions to the DataFrame\n",
    "nfl_df['predictions'] = predictions"
   ]
  },
  {
   "cell_type": "code",
   "execution_count": 18,
   "id": "37295f83-0ee0-4399-9234-b6e1c99c6cfe",
   "metadata": {
    "tags": []
   },
   "outputs": [
    {
     "name": "stdout",
     "output_type": "stream",
     "text": [
      "Mean Absolute Error: 8.934075361611892\n"
     ]
    }
   ],
   "source": [
    "from sklearn.metrics import mean_absolute_error\n",
    "\n",
    "# Assuming 'score' and 'predictions' are the column names\n",
    "mae = mean_absolute_error(nfl_df['score'], nfl_df['predictions'])\n",
    "print(f'Mean Absolute Error: {mae}')"
   ]
  },
  {
   "cell_type": "code",
   "execution_count": 19,
   "id": "a6d2ae1a-fcab-45c2-9294-f6a8fb5dda7e",
   "metadata": {
    "tags": []
   },
   "outputs": [
    {
     "name": "stdout",
     "output_type": "stream",
     "text": [
      "    score  predictions\n",
      "0    21.0    32.080547\n",
      "1    20.0    32.469166\n",
      "2    34.0    27.562565\n",
      "3     0.0    25.015821\n",
      "4    16.0    29.489244\n",
      "..    ...          ...\n",
      "779  13.0    25.570448\n",
      "780  30.0    16.318514\n",
      "781  17.0    26.571470\n",
      "782  27.0    26.390909\n",
      "783  24.0    26.872770\n",
      "\n",
      "[784 rows x 2 columns]\n"
     ]
    }
   ],
   "source": [
    "check = nfl_df[['score', 'predictions']]\n",
    "print(check)"
   ]
  },
  {
   "cell_type": "code",
   "execution_count": null,
   "id": "1e10b0fb-4aff-4084-8f2e-8c68b17e6cb3",
   "metadata": {},
   "outputs": [],
   "source": []
  }
 ],
 "metadata": {
  "kernelspec": {
   "display_name": "Python 3 (ipykernel)",
   "language": "python",
   "name": "python3"
  },
  "language_info": {
   "codemirror_mode": {
    "name": "ipython",
    "version": 3
   },
   "file_extension": ".py",
   "mimetype": "text/x-python",
   "name": "python",
   "nbconvert_exporter": "python",
   "pygments_lexer": "ipython3",
   "version": "3.11.5"
  }
 },
 "nbformat": 4,
 "nbformat_minor": 5
}
