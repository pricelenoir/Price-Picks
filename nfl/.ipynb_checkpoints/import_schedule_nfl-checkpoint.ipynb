{
 "cells": [
  {
   "cell_type": "markdown",
   "id": "0b7dd526-4006-48a2-99eb-a7fcd4160805",
   "metadata": {},
   "source": [
    "This script prepares the database by adding the upcoming season's schedule. This will webscrape the new schedule and populate the predictions table."
   ]
  },
  {
   "cell_type": "code",
   "execution_count": 1,
   "id": "5e6f2ec1-329c-4b45-aff0-d9c15eea7627",
   "metadata": {
    "tags": []
   },
   "outputs": [],
   "source": [
    "import os\n",
    "from bs4 import BeautifulSoup\n",
    "from playwright.async_api import async_playwright, TimeoutError as PlaywrightTimeout\n",
    "import time\n",
    "import psycopg2 # PostgreSQL database adapter"
   ]
  },
  {
   "cell_type": "code",
   "execution_count": 2,
   "id": "595c20fa-074d-46d6-a252-d2ab42457fdc",
   "metadata": {
    "tags": []
   },
   "outputs": [],
   "source": [
    "upcoming_season = 2023"
   ]
  },
  {
   "cell_type": "code",
   "execution_count": 3,
   "id": "600fadbc-fee7-4595-929c-8f1cb7e0008a",
   "metadata": {
    "tags": []
   },
   "outputs": [],
   "source": [
    "# Directory named data with 2 subdirectories: standings and scores\n",
    "DATA_DIR = \"data\"\n",
    "STANDINGS_DIR = os.path.join(DATA_DIR, \"standings\")"
   ]
  },
  {
   "cell_type": "code",
   "execution_count": 4,
   "id": "66f5847a-252a-4849-ac19-e33ed3f081e9",
   "metadata": {
    "tags": []
   },
   "outputs": [],
   "source": [
    "async def get_html(url, selector, sleep = 5, retries = 3):\n",
    "    # Selector will be a CSS selector -- ID that's used to locate unique element within the html\n",
    "    html = None\n",
    "    # Allows for more time to avoid sending to many requests and getting banned\n",
    "    for i in range(1, retries+1):\n",
    "        time.sleep(sleep * i)\n",
    "        # Logic to handle errors when web scraping\n",
    "        try:\n",
    "            async with async_playwright() as p:\n",
    "                browser = await p.firefox.launch() # Can also use p.chromium.launch() if issues persist\n",
    "                page = await browser.new_page()\n",
    "                await page.goto(url)\n",
    "                print(await page.title())\n",
    "                html = await page.inner_html(selector)\n",
    "        except PlaywrightTimeout:\n",
    "            print(f\"Timeout error on {url}\")\n",
    "            continue\n",
    "        else:\n",
    "            break\n",
    "    return html"
   ]
  },
  {
   "cell_type": "code",
   "execution_count": 5,
   "id": "3ef3f0ce-0f8f-46e3-b661-dbdadd59aad7",
   "metadata": {
    "tags": []
   },
   "outputs": [],
   "source": [
    "async def scrape_season(season):\n",
    "    url = f\"https://www.pro-football-reference.com/years/{season}/games.htm\"\n",
    "    html = await get_html(url, \"#all_games\")\n",
    "    \n",
    "    save_path = os.path.join(STANDINGS_DIR, f\"{season}-games.htm\") # Designate the filename and path\n",
    "    if os.path.exists(save_path): # Check that we are not scraping data that has already been scraped\n",
    "        return save_path\n",
    "            \n",
    "    with open(save_path, \"w+\") as f:\n",
    "        f.write(html)\n",
    "        \n",
    "    return save_path"
   ]
  },
  {
   "cell_type": "code",
   "execution_count": 6,
   "id": "0bdbdfc0-03e1-42ed-88e6-545bab4993bc",
   "metadata": {
    "tags": []
   },
   "outputs": [
    {
     "name": "stdout",
     "output_type": "stream",
     "text": [
      "2023 NFL Weekly League Schedule | Pro-Football-Reference.com\n"
     ]
    }
   ],
   "source": [
    "filepath = await scrape_season(upcoming_season)"
   ]
  },
  {
   "cell_type": "code",
   "execution_count": 6,
   "id": "b936af0f-ae7f-4760-8ba6-36aa8809004c",
   "metadata": {
    "tags": []
   },
   "outputs": [],
   "source": [
    "# Function to get team abbreviation\n",
    "def team_abbreviate(team_name):\n",
    "    team_name = team_name.lower()\n",
    "    return team_abbreviations.get(team_name, team_name)\n",
    "\n",
    "team_abbreviations = {\n",
    "    'detroit lions': 'DET',\n",
    "    'kansas city chiefs': 'KC',\n",
    "    'atlanta falcons': 'ATL',\n",
    "    'carolina panthers': 'CAR',\n",
    "    'cleveland browns': 'CLE',\n",
    "    'cincinnati bengals': 'CIN',\n",
    "    'jacksonville jaguars': 'JAX',\n",
    "    'indianapolis colts': 'IND',\n",
    "    'washington commanders': 'WAS',\n",
    "    'arizona cardinals': 'ARI',\n",
    "    'baltimore ravens': 'BAL',\n",
    "    'houston texans': 'HOU',\n",
    "    'tampa bay buccaneers': 'TB',\n",
    "    'minnesota vikings': 'MIN',\n",
    "    'new orleans saints': 'NO',\n",
    "    'tennessee titans': 'TEN',\n",
    "    'san francisco 49ers': 'SF',\n",
    "    'pittsburgh steelers': 'PIT',\n",
    "    'green bay packers': 'GB',\n",
    "    'chicago bears': 'CHI',\n",
    "    'las vegas raiders': 'LV',\n",
    "    'denver broncos': 'DEN',\n",
    "    'miami dolphins': 'MIA',\n",
    "    'los angeles chargers': 'LAC',\n",
    "    'philadelphia eagles': 'PHI',\n",
    "    'new england patriots': 'NE',\n",
    "    'los angeles rams': 'LAR',\n",
    "    'seattle seahawks': 'SEA',\n",
    "    'dallas cowboys': 'DAL',\n",
    "    'new york giants': 'NYG',\n",
    "    'new york jets': 'NYJ',\n",
    "    'buffalo bills': 'BUF'\n",
    "}"
   ]
  },
  {
   "cell_type": "code",
   "execution_count": 7,
   "id": "e4452636-8098-4c8e-b73d-844492311669",
   "metadata": {
    "tags": []
   },
   "outputs": [
    {
     "name": "stdout",
     "output_type": "stream",
     "text": [
      "Connected to PostgreSQL database.\n"
     ]
    }
   ],
   "source": [
    "try:\n",
    "    # Establish a connection to the PostgreSQL database\n",
    "    connection = psycopg2.connect(\n",
    "        host = \"localhost\",\n",
    "        dbname = \"nfl\",\n",
    "        user = \"postgres\",\n",
    "        password = \"Plenoir2002!\", # Enter correct password\n",
    "        port = 5432\n",
    "    )\n",
    "    print(\"Connected to PostgreSQL database.\")\n",
    "except (Exception, psycopg2.Error) as error:\n",
    "    print(\"Error connecting to PostgreSQL database: \", error)"
   ]
  },
  {
   "cell_type": "code",
   "execution_count": 8,
   "id": "9d875720-5265-4bce-a99f-1a579b1a5576",
   "metadata": {
    "tags": []
   },
   "outputs": [],
   "source": [
    "# Create a cursor object to interact with the database\n",
    "cursor = connection.cursor()"
   ]
  },
  {
   "cell_type": "code",
   "execution_count": 9,
   "id": "68889d92-488b-4df5-816a-504723862472",
   "metadata": {
    "tags": []
   },
   "outputs": [],
   "source": [
    "predictions_table_query = '''\n",
    "    CREATE TABLE IF NOT EXISTS predictions (\n",
    "    gameid INT,\n",
    "    Tm VARCHAR(10),\n",
    "    Home FLOAT,\n",
    "    Season FLOAT,\n",
    "    Date DATE,\n",
    "    Week INT,\n",
    "    Score FLOAT,\n",
    "    P_score FLOAT,\n",
    "    Tm_opp VARCHAR(10),\n",
    "    Score_opp FLOAT,\n",
    "    P_score_opp FLOAT,\n",
    "    Win BOOLEAN,\n",
    "    Pred_Win BOOLEAN,\n",
    "    Spread FLOAT,\n",
    "    Pred_spread FLOAT,\n",
    "    Spread_win BOOLEAN\n",
    ");\n",
    "'''\n",
    "\n",
    "cursor.execute(predictions_table_query)\n",
    "connection.commit()"
   ]
  },
  {
   "cell_type": "code",
   "execution_count": 10,
   "id": "7591daad-e8a8-40ff-81e4-93843a110305",
   "metadata": {
    "tags": []
   },
   "outputs": [],
   "source": [
    "insert_query = '''\n",
    "    INSERT INTO predictions (\n",
    "        Tm, Home, Season, Date, Week, Tm_opp\n",
    "    ) VALUES (%s, %s, %s, %s, %s, %s);\n",
    "'''"
   ]
  },
  {
   "cell_type": "code",
   "execution_count": 11,
   "id": "61c2eb84-9b6a-428f-a05d-f052be20fbf0",
   "metadata": {
    "tags": []
   },
   "outputs": [
    {
     "name": "stdout",
     "output_type": "stream",
     "text": [
      "Data inserted.\n"
     ]
    }
   ],
   "source": [
    "with open(filepath, 'r') as f:\n",
    "    html = f.read()\n",
    "\n",
    "soup = BeautifulSoup(html, 'html.parser')\n",
    "\n",
    "# Find all rows with the data-row attribute\n",
    "rows = soup.find_all(\"tr\")\n",
    "\n",
    "# Iterate through each row\n",
    "for row in rows:\n",
    "    # Find the week number\n",
    "    week_num = row.find(\"th\", {\"data-stat\": \"week_num\", \"class\": \"right\"})\n",
    "        \n",
    "    # Check if the week number element is found\n",
    "    if week_num:\n",
    "        week_num = week_num.text\n",
    "\n",
    "    # Extract data from each cell\n",
    "    cells = row.find_all(\"td\")\n",
    "    for cell in cells:\n",
    "        data_stat = cell.get(\"data-stat\", \"\")\n",
    "\n",
    "        if data_stat == \"game_date\":\n",
    "            # Set season\n",
    "            date = cell.text\n",
    "        if data_stat == \"winner\":\n",
    "            team = cell.text\n",
    "            team = team_abbreviate(team)\n",
    "        if data_stat == \"game_location\":\n",
    "            if cell.text == \"@\":\n",
    "                home = 0\n",
    "            else:\n",
    "                home = 1\n",
    "        if data_stat == \"loser\":\n",
    "            opponent = cell.text\n",
    "            opponent = team_abbreviate(opponent)\n",
    "            \n",
    "    if week_num is not None:\n",
    "        cursor.execute(insert_query, (team, float(home), float(upcoming_season), date, int(week_num), opponent))\n",
    "        cursor.execute(insert_query, (opponent, float(not home), float(upcoming_season), date, int(week_num), team))\n",
    "\n",
    "connection.commit()\n",
    "print(\"Data inserted.\")"
   ]
  },
  {
   "cell_type": "code",
   "execution_count": 12,
   "id": "84435542-1d7e-4366-86d6-9ebb259428c7",
   "metadata": {
    "tags": []
   },
   "outputs": [],
   "source": [
    "cursor.close()\n",
    "connection.close()"
   ]
  }
 ],
 "metadata": {
  "kernelspec": {
   "display_name": "Python 3 (ipykernel)",
   "language": "python",
   "name": "python3"
  },
  "language_info": {
   "codemirror_mode": {
    "name": "ipython",
    "version": 3
   },
   "file_extension": ".py",
   "mimetype": "text/x-python",
   "name": "python",
   "nbconvert_exporter": "python",
   "pygments_lexer": "ipython3",
   "version": "3.11.5"
  }
 },
 "nbformat": 4,
 "nbformat_minor": 5
}
