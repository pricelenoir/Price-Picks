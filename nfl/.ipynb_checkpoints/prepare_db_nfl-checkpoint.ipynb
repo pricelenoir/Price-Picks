{
 "cells": [
  {
   "cell_type": "markdown",
   "id": "0b7dd526-4006-48a2-99eb-a7fcd4160805",
   "metadata": {},
   "source": [
    "This script prepares the database by adding the upcoming season's schedule. This will populate the nfl_data and results tables with games to make predictions on."
   ]
  },
  {
   "cell_type": "code",
   "execution_count": 10,
   "id": "5e6f2ec1-329c-4b45-aff0-d9c15eea7627",
   "metadata": {
    "tags": []
   },
   "outputs": [],
   "source": [
    "import os\n",
    "from bs4 import BeautifulSoup\n",
    "from playwright.async_api import async_playwright, TimeoutError as PlaywrightTimeout\n",
    "import time\n",
    "import psycopg2 # PostgreSQL database adapter"
   ]
  },
  {
   "cell_type": "code",
   "execution_count": 11,
   "id": "595c20fa-074d-46d6-a252-d2ab42457fdc",
   "metadata": {
    "tags": []
   },
   "outputs": [],
   "source": [
    "upcoming_season = 2023"
   ]
  },
  {
   "cell_type": "code",
   "execution_count": 12,
   "id": "66f5847a-252a-4849-ac19-e33ed3f081e9",
   "metadata": {
    "tags": []
   },
   "outputs": [],
   "source": [
    "async def get_html(url, selector, sleep = 5, retries = 3):\n",
    "    # Selector will be a CSS selector -- ID that's used to locate unique element within the html\n",
    "    html = None\n",
    "    # Allows for more time to avoid sending to many requests and getting banned\n",
    "    for i in range(1, retries+1):\n",
    "        time.sleep(sleep * i)\n",
    "        # Logic to handle errors when web scraping\n",
    "        try:\n",
    "            async with async_playwright() as p:\n",
    "                browser = await p.firefox.launch() # Can also use p.chromium.launch() if issues persist\n",
    "                page = await browser.new_page()\n",
    "                await page.goto(url)\n",
    "                print(await page.title())\n",
    "                html = await page.inner_html(selector)\n",
    "        except PlaywrightTimeout:\n",
    "            print(f\"Timeout error on {url}\")\n",
    "            continue\n",
    "        else:\n",
    "            break\n",
    "    return html"
   ]
  },
  {
   "cell_type": "code",
   "execution_count": 13,
   "id": "3ef3f0ce-0f8f-46e3-b661-dbdadd59aad7",
   "metadata": {
    "tags": []
   },
   "outputs": [],
   "source": [
    "async def scrape_season(season):\n",
    "    url = f\"https://www.pro-football-reference.com/years/{season}/games.htm\"\n",
    "    html = await get_html(url, \"#all_games\")\n",
    "    \n",
    "    save_path = os.path.join(os.getcwd(), f\"{season}-games.htm\") # Designate the filename and path\n",
    "    if os.path.exists(save_path): # Check that we are not scraping data that has already been scraped\n",
    "        return\n",
    "            \n",
    "    with open(save_path, \"w+\") as f:\n",
    "        f.write(html)"
   ]
  },
  {
   "cell_type": "code",
   "execution_count": 14,
   "id": "0bdbdfc0-03e1-42ed-88e6-545bab4993bc",
   "metadata": {
    "tags": []
   },
   "outputs": [
    {
     "name": "stdout",
     "output_type": "stream",
     "text": [
      "2023 NFL Weekly League Schedule | Pro-Football-Reference.com\n"
     ]
    }
   ],
   "source": [
    "await scrape_season(upcoming_season)"
   ]
  },
  {
   "cell_type": "code",
   "execution_count": null,
   "id": "0b8ff769-0e56-4473-8278-11a5d7a3596b",
   "metadata": {},
   "outputs": [],
   "source": []
  },
  {
   "cell_type": "code",
   "execution_count": null,
   "id": "9b216a81-a4e1-4612-87c4-96f3d454eba5",
   "metadata": {},
   "outputs": [],
   "source": [
    "try:\n",
    "    # Establish a connection to the PostgreSQL database\n",
    "    connection = psycopg2.connect(\n",
    "        host = \"localhost\",\n",
    "        dbname = \"nfl\",\n",
    "        user = \"postgres\",\n",
    "        password = \"Plenoir2002!\", # Enter correct password\n",
    "        port = 5432\n",
    "    )\n",
    "    print(\"Connected to PostgreSQL database.\")\n",
    "except (Exception, psycopg2.Error) as error:\n",
    "    print(\"Error connecting to PostgreSQL database: \", error)"
   ]
  },
  {
   "cell_type": "code",
   "execution_count": null,
   "id": "f5d142b8-988c-4c8c-b88a-0fe9649f0b0e",
   "metadata": {},
   "outputs": [],
   "source": [
    "# Create a cursor object to interact with the database\n",
    "cursor = connection.cursor()"
   ]
  }
 ],
 "metadata": {
  "kernelspec": {
   "display_name": "Python 3 (ipykernel)",
   "language": "python",
   "name": "python3"
  },
  "language_info": {
   "codemirror_mode": {
    "name": "ipython",
    "version": 3
   },
   "file_extension": ".py",
   "mimetype": "text/x-python",
   "name": "python",
   "nbconvert_exporter": "python",
   "pygments_lexer": "ipython3",
   "version": "3.11.5"
  }
 },
 "nbformat": 4,
 "nbformat_minor": 5
}
