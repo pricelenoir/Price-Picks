{
 "cells": [
  {
   "cell_type": "code",
   "execution_count": 1,
   "id": "83ee10e8-72e8-4db4-a49c-827d7c0f86bf",
   "metadata": {
    "tags": []
   },
   "outputs": [],
   "source": [
    "import numpy as np\n",
    "import pandas as pd\n",
    "import torch\n",
    "import torch.nn as nn\n",
    "import torch.optim as optim\n",
    "from sklearn.model_selection import train_test_split\n",
    "from sklearn.metrics import mean_absolute_error\n",
    "from sklearn.preprocessing import MinMaxScaler"
   ]
  },
  {
   "cell_type": "code",
   "execution_count": 2,
   "id": "d38c1351-eaee-4f69-8626-9dcbdc74ad35",
   "metadata": {
    "tags": []
   },
   "outputs": [],
   "source": [
    "nfl_df = pd.read_csv('training_nfl.csv', index_col=0)"
   ]
  },
  {
   "cell_type": "code",
   "execution_count": 3,
   "id": "cdc65c9a-9adb-42ff-807a-32e621054b51",
   "metadata": {
    "tags": []
   },
   "outputs": [],
   "source": [
    "# Define your custom neural network class\n",
    "class NFLPredictor(nn.Module):\n",
    "    def __init__(self, input_size):\n",
    "        super(NFLPredictor, self).__init__()\n",
    "        self.fc1 = nn.Linear(input_size, 16)\n",
    "        self.relu = nn.ReLU()\n",
    "        self.dropout = nn.Dropout(0.2)\n",
    "        self.fc2 = nn.Linear(16, 1)\n",
    "\n",
    "    def forward(self, x):\n",
    "        x = self.fc1(x)\n",
    "        x = self.relu(x)\n",
    "        x = self.dropout(x)\n",
    "        x = self.fc2(x)\n",
    "        return x"
   ]
  },
  {
   "cell_type": "code",
   "execution_count": 4,
   "id": "31a4e441-1c27-47eb-b09e-2315e6a4549b",
   "metadata": {
    "tags": []
   },
   "outputs": [],
   "source": [
    "X = nfl_df.drop(['gameid', 'tm', 'won', 'season', 'date', 'tm_opp', 'score'], axis=1).values\n",
    "Y = nfl_df['score'].values\n",
    "\n",
    "X_train, X_test, Y_train, Y_test = train_test_split(X, Y, test_size=0.1, random_state=123)\n",
    "\n",
    "# Convert data to PyTorch tensors\n",
    "X_train_tensor = torch.FloatTensor(X_train)\n",
    "Y_train_tensor = torch.FloatTensor(Y_train)\n",
    "X_test_tensor = torch.FloatTensor(X_test)\n",
    "Y_test_tensor = torch.FloatTensor(Y_test)\n",
    "\n",
    "# Create an instance of the neural network\n",
    "model = NFLPredictor(input_size=X_train.shape[1])\n",
    "\n",
    "# Define loss function and optimizer\n",
    "criterion = nn.MSELoss()\n",
    "optimizer = optim.Adam(model.parameters())"
   ]
  },
  {
   "cell_type": "code",
   "execution_count": 5,
   "id": "b60fecfb-4b5e-4609-a59c-badea55d29a2",
   "metadata": {},
   "outputs": [
    {
     "name": "stdout",
     "output_type": "stream",
     "text": [
      "Mean Absolute Error: 1.9036163\n"
     ]
    }
   ],
   "source": [
    "# Training loop\n",
    "num_epochs = 60\n",
    "batch_size = 10\n",
    "\n",
    "for epoch in range(num_epochs):\n",
    "    for i in range(0, len(X_train), batch_size):\n",
    "        inputs = X_train_tensor[i:i+batch_size]\n",
    "        targets = Y_train_tensor[i:i+batch_size].view(-1, 1)\n",
    "\n",
    "        optimizer.zero_grad()\n",
    "        outputs = model(inputs)\n",
    "        loss = criterion(outputs, targets)\n",
    "        loss.backward()\n",
    "        optimizer.step()\n",
    "\n",
    "# Evaluate the model\n",
    "model.eval()\n",
    "with torch.no_grad():\n",
    "    test_pred = model(X_test_tensor)\n",
    "    mae = mean_absolute_error(Y_test_tensor.numpy(), test_pred.numpy())\n",
    "\n",
    "print(\"Mean Absolute Error:\", mae)"
   ]
  },
  {
   "cell_type": "code",
   "execution_count": 6,
   "id": "e0b3f7c8-133e-469b-9dec-bf0737bbcd0b",
   "metadata": {
    "tags": []
   },
   "outputs": [],
   "source": [
    "# Save the trained model\n",
    "torch.save(model.state_dict(), 'NFL_model.pth')"
   ]
  }
 ],
 "metadata": {
  "kernelspec": {
   "display_name": "Python 3 (ipykernel)",
   "language": "python",
   "name": "python3"
  },
  "language_info": {
   "codemirror_mode": {
    "name": "ipython",
    "version": 3
   },
   "file_extension": ".py",
   "mimetype": "text/x-python",
   "name": "python",
   "nbconvert_exporter": "python",
   "pygments_lexer": "ipython3",
   "version": "3.11.5"
  }
 },
 "nbformat": 4,
 "nbformat_minor": 5
}
