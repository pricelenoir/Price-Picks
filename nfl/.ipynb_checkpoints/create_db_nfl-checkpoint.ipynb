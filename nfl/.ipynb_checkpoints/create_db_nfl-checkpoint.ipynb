{
 "cells": [
  {
   "cell_type": "markdown",
   "id": "cb60f427-2110-4e4e-a934-e6550ff61c00",
   "metadata": {},
   "source": [
    "This script creates the database schema for all NFL games. It will read in the precleansed CSV and query the data into the DB. It will also initialize a table for each team as well as a table to record prediction results."
   ]
  },
  {
   "cell_type": "code",
   "execution_count": 1,
   "id": "86328e66-f63f-416f-87f9-40279dae7347",
   "metadata": {},
   "outputs": [
    {
     "name": "stdout",
     "output_type": "stream",
     "text": [
      "Connected to PostgreSQL database.\n"
     ]
    }
   ],
   "source": [
    "import psycopg2 # PostgreSQL database adapter\n",
    "import csv\n",
    "\n",
    "try:\n",
    "    # Establish a connection to the PostgreSQL database\n",
    "    connection = psycopg2.connect(\n",
    "        host = \"localhost\",\n",
    "        dbname = \"nfl\",\n",
    "        user = \"postgres\",\n",
    "        password = \"Plenoir2002!\", # Enter correct password\n",
    "        port = 5432\n",
    "    )\n",
    "    print(\"Connected to PostgreSQL database.\")\n",
    "except (Exception, psycopg2.Error) as error:\n",
    "    print(\"Error connecting to PostgreSQL database: \", error)"
   ]
  },
  {
   "cell_type": "code",
   "execution_count": 2,
   "id": "8fc3f280-8ee0-4206-9cb0-f34f29a6e320",
   "metadata": {},
   "outputs": [],
   "source": [
    "# Create a cursor object to interact with the database\n",
    "cursor = connection.cursor()"
   ]
  },
  {
   "cell_type": "code",
   "execution_count": 3,
   "id": "2a0b7209-9796-473d-b411-86c15da7c47a",
   "metadata": {},
   "outputs": [],
   "source": [
    "# SQL command to initialize new table\n",
    "create_script = '''\n",
    "CREATE TABLE IF NOT EXISTS nfl_data (\n",
    "    gameid INT,\n",
    "    Tm VARCHAR(10),\n",
    "    Home FLOAT,\n",
    "    Won BOOLEAN,\n",
    "    Season FLOAT,\n",
    "    Date DATE,\n",
    "    Score FLOAT,\n",
    "    FrDwns FLOAT,\n",
    "    TotYds FLOAT,\n",
    "    T_O FLOAT,\n",
    "    Pen FLOAT,\n",
    "    Pen_Yds FLOAT,\n",
    "    ThdDwns FLOAT,\n",
    "    ThdDwnAtt FLOAT,\n",
    "    Pass_Cmp FLOAT,\n",
    "    Pass_Att FLOAT,\n",
    "    Pass_Yds FLOAT,\n",
    "    Pass_TD FLOAT,\n",
    "    Pass_Int FLOAT,\n",
    "    QB_Rate FLOAT,\n",
    "    YAC FLOAT,\n",
    "    Drops FLOAT,\n",
    "    QB_BadTh FLOAT,\n",
    "    QB_Sk FLOAT,\n",
    "    QB_Hrry FLOAT,\n",
    "    QB_Hits FLOAT,\n",
    "    QB_Prss FLOAT,\n",
    "    Rush_Att FLOAT,\n",
    "    Rush_Yds FLOAT,\n",
    "    Rush_TD FLOAT,\n",
    "    Rush_YAC FLOAT,\n",
    "    Rush_YPC FLOAT,\n",
    "    XPM FLOAT,\n",
    "    XPA FLOAT,\n",
    "    FGM FLOAT,\n",
    "    FGA FLOAT,\n",
    "    Tm_opp VARCHAR(10),\n",
    "    Score_opp FLOAT,\n",
    "    FrDwns_opp FLOAT,\n",
    "    TotYds_opp FLOAT,\n",
    "    to_opp FLOAT,\n",
    "    Pen_opp FLOAT,\n",
    "    Pen_Yds_opp FLOAT,\n",
    "    ThdDwns_opp FLOAT,\n",
    "    ThdDwnAtt_opp FLOAT,\n",
    "    Pass_Cmp_opp FLOAT,\n",
    "    Pass_Att_opp FLOAT,\n",
    "    Pass_Yds_opp FLOAT,\n",
    "    Pass_TD_opp FLOAT,\n",
    "    Pass_Int_opp FLOAT,\n",
    "    QB_Rate_opp FLOAT,\n",
    "    YAC_opp FLOAT,\n",
    "    Drops_opp FLOAT,\n",
    "    QB_BadTh_opp FLOAT,\n",
    "    QB_Sk_opp FLOAT,\n",
    "    QB_Hrry_opp FLOAT,\n",
    "    QB_Hits_opp FLOAT,\n",
    "    QB_Prss_opp FLOAT,\n",
    "    Rush_Att_opp FLOAT,\n",
    "    Rush_Yds_opp FLOAT,\n",
    "    Rush_TD_opp FLOAT,\n",
    "    Rush_YAC_opp FLOAT,\n",
    "    Rush_YPC_opp FLOAT,\n",
    "    XPM_opp FLOAT,\n",
    "    XPA_opp FLOAT,\n",
    "    FGM_opp FLOAT,\n",
    "    FGA_opp FLOAT\n",
    ");\n",
    "'''\n",
    "\n",
    "cursor.execute(create_script)\n",
    "connection.commit()"
   ]
  },
  {
   "cell_type": "code",
   "execution_count": 4,
   "id": "c8d30b11-ceb7-4008-ae63-b414eb1226db",
   "metadata": {},
   "outputs": [
    {
     "name": "stdout",
     "output_type": "stream",
     "text": [
      "CSV data has been inserted into the PostgreSQL database.\n"
     ]
    }
   ],
   "source": [
    "csv_file_path = 'nfl_games.csv'\n",
    "\n",
    "# Read the CSV file and insert data into the database\n",
    "with open(csv_file_path, 'r') as file:\n",
    "    reader = csv.reader(file)\n",
    "    header = next(reader)\n",
    "\n",
    "    # Modify the header list to include the name for the first column\n",
    "    header[0] = 'gameid'\n",
    "    \n",
    "    # Generate the column names and placeholders for SQL query\n",
    "    column_names = ','.join(header)\n",
    "    placeholders = ','.join(['%s'] * len(header))\n",
    "    insert_script = f\"INSERT INTO nfl_data ({column_names}) VALUES ({placeholders})\"\n",
    "\n",
    "    for row in reader:\n",
    "        cursor.execute(insert_script, row)\n",
    "\n",
    "connection.commit()\n",
    "print(\"CSV data has been inserted into the PostgreSQL database.\")"
   ]
  },
  {
   "cell_type": "code",
   "execution_count": 5,
   "id": "0514019e-0c96-4e55-a258-dd6b80e2747d",
   "metadata": {
    "tags": []
   },
   "outputs": [
    {
     "name": "stdout",
     "output_type": "stream",
     "text": [
      "Team tables have been initialized.\n"
     ]
    }
   ],
   "source": [
    "# SQL command to get distinct values of \"Tm\"\n",
    "get_distinct_tm_query = \"SELECT DISTINCT Tm FROM nfl_data;\"\n",
    "cursor.execute(get_distinct_tm_query)\n",
    "distinct_tm_values = cursor.fetchall()\n",
    "\n",
    "# Iterate through distinct \"Tm\" values and create tables for each\n",
    "for tm_value in distinct_tm_values:\n",
    "    tm = tm_value[0]\n",
    "    \n",
    "    # SQL command to create a table for each \"Tm\" value\n",
    "    create_tm_table_query = f'''\n",
    "    CREATE TABLE IF NOT EXISTS {tm} AS\n",
    "    SELECT * FROM nfl_data WHERE Tm = %s;\n",
    "    '''\n",
    "    \n",
    "    cursor.execute(create_tm_table_query, (tm,))\n",
    "    connection.commit()\n",
    "\n",
    "print(\"Team tables have been initialized.\")"
   ]
  },
  {
   "cell_type": "code",
   "execution_count": null,
   "id": "eff78834-bc84-4a59-a64e-316ceb5669b0",
   "metadata": {},
   "outputs": [],
   "source": [
    "# Create table to hold prediction data\n",
    "predictions_table_query = '''\n",
    "    CREATE TABLE IF NOT EXISTS predictions (\n",
    "    gameid INT,\n",
    "    Tm VARCHAR(10),\n",
    "    Home FLOAT,\n",
    "    Season FLOAT,\n",
    "    Date DATE,\n",
    "    Week INT,\n",
    "    Score FLOAT,\n",
    "    P_score FLOAT,\n",
    "    Tm_opp VARCHAR(10),\n",
    "    Score_opp FLOAT,\n",
    "    P_score_opp FLOAT,\n",
    "    Win BOOLEAN,\n",
    "    Pred_Win BOOLEAN,\n",
    "    Spread FLOAT,\n",
    "    Pred_spread FLOAT,\n",
    "    Spread_win BOOLEAN\n",
    ");\n",
    "'''\n",
    "\n",
    "cursor.execute(predictions_table_query)\n",
    "connection.commit()"
   ]
  },
  {
   "cell_type": "code",
   "execution_count": 6,
   "id": "54c45b5a-53a2-4d80-9d09-425207ccee73",
   "metadata": {
    "tags": []
   },
   "outputs": [],
   "source": [
    "# Close the cursor and the connection\n",
    "cursor.close()\n",
    "connection.close()"
   ]
  }
 ],
 "metadata": {
  "kernelspec": {
   "display_name": "Python 3 (ipykernel)",
   "language": "python",
   "name": "python3"
  },
  "language_info": {
   "codemirror_mode": {
    "name": "ipython",
    "version": 3
   },
   "file_extension": ".py",
   "mimetype": "text/x-python",
   "name": "python",
   "nbconvert_exporter": "python",
   "pygments_lexer": "ipython3",
   "version": "3.11.5"
  }
 },
 "nbformat": 4,
 "nbformat_minor": 5
}
