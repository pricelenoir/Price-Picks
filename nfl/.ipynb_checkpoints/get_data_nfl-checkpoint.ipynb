{
 "cells": [
  {
   "cell_type": "code",
   "execution_count": 9,
   "id": "ee7a366f-ef27-430a-9999-cc26512ea658",
   "metadata": {
    "tags": []
   },
   "outputs": [],
   "source": [
    "import os\n",
    "from bs4 import BeautifulSoup\n",
    "from playwright.async_api import async_playwright, TimeoutError as PlaywrightTimeout\n",
    "import time"
   ]
  },
  {
   "cell_type": "code",
   "execution_count": 10,
   "id": "8ad68295-ec9f-414a-973f-7d7d30d49304",
   "metadata": {
    "tags": []
   },
   "outputs": [],
   "source": [
    "SEASONS = list(range(2018,2023))"
   ]
  },
  {
   "cell_type": "code",
   "execution_count": 11,
   "id": "42371ddc-8d20-4602-92e5-668fc0ba0046",
   "metadata": {
    "tags": []
   },
   "outputs": [],
   "source": [
    "# Directory named data with 2 subdirectories: standings and scores\n",
    "DATA_DIR = \"data\"\n",
    "STANDINGS_DIR = os.path.join(DATA_DIR, \"standings\")\n",
    "SCORES_DIR = os.path.join(DATA_DIR, \"scores\")"
   ]
  },
  {
   "cell_type": "code",
   "execution_count": 12,
   "id": "91f01d67-874f-424c-b23d-e3980f6e4038",
   "metadata": {
    "tags": []
   },
   "outputs": [],
   "source": [
    "async def get_html(url, selector, sleep = 5, retries = 3):\n",
    "    # Selector will be a CSS selector -- ID that's used to locate unique element within the html\n",
    "    html = None\n",
    "    # Allows for more time to avoid sending to many requests and getting banned\n",
    "    for i in range(1, retries+1):\n",
    "        time.sleep(sleep * i)\n",
    "        # Logic to handle errors when web scraping\n",
    "        try:\n",
    "            async with async_playwright() as p:\n",
    "                browser = await p.firefox.launch() # Can also use p.chromium.launch() if issues persist\n",
    "                page = await browser.new_page()\n",
    "                await page.goto(url)\n",
    "                print(await page.title())\n",
    "                html = await page.inner_html(selector)\n",
    "        except PlaywrightTimeout:\n",
    "            print(f\"Timeout error on {url}\")\n",
    "            continue\n",
    "        else:\n",
    "            break\n",
    "    return html"
   ]
  },
  {
   "cell_type": "code",
   "execution_count": 13,
   "id": "b5ed4d74-40ec-45f6-8bc4-c35dffbc2211",
   "metadata": {},
   "outputs": [],
   "source": [
    "async def scrape_season(season):\n",
    "    url = f\"https://www.pro-football-reference.com/years/{season}/games.htm\"\n",
    "    html = await get_html(url, \"#all_games\")\n",
    "    \n",
    "    save_path = os.path.join(STANDINGS_DIR, f\"{season}-games.htm\") # Designate the filename and path\n",
    "    if os.path.exists(save_path): # Check that we are not scraping data that has already been scraped\n",
    "        return\n",
    "            \n",
    "    with open(save_path, \"w+\") as f:\n",
    "        f.write(html)"
   ]
  },
  {
   "cell_type": "code",
   "execution_count": 14,
   "id": "28b78af6-9222-46dc-b3df-cebdc1dbef65",
   "metadata": {},
   "outputs": [
    {
     "name": "stdout",
     "output_type": "stream",
     "text": [
      "2018 NFL Weekly League Schedule | Pro-Football-Reference.com\n",
      "2019 NFL Weekly League Schedule | Pro-Football-Reference.com\n",
      "2020 NFL Weekly League Schedule | Pro-Football-Reference.com\n",
      "2021 NFL Weekly League Schedule | Pro-Football-Reference.com\n",
      "2022 NFL Weekly League Schedule | Pro-Football-Reference.com\n"
     ]
    }
   ],
   "source": [
    "# Loop to download each season schedule page\n",
    "for season in SEASONS:\n",
    "    await scrape_season(season)"
   ]
  },
  {
   "cell_type": "code",
   "execution_count": 15,
   "id": "6c7650d2-2b78-493a-8b01-06bb42688f44",
   "metadata": {},
   "outputs": [],
   "source": [
    "standings_files = os.listdir(STANDINGS_DIR)"
   ]
  },
  {
   "cell_type": "code",
   "execution_count": 16,
   "id": "2b356a72-00a2-4b70-9bd7-688bbd7f1b9d",
   "metadata": {},
   "outputs": [],
   "source": [
    "async def scrape_game(standings_file):\n",
    "    with open(standings_file, 'r') as f:\n",
    "        html = f.read()\n",
    "\n",
    "    soup = BeautifulSoup(html)\n",
    "    links = soup.find_all(\"a\") # Finds all \"a\" (anchor) tags\n",
    "    hrefs = [l.get(\"href\") for l in links] # Grab href part of the anchor tag\n",
    "\n",
    "    box_scores = [l for l in hrefs if l and \"boxscore\" in l and \".htm\" in l] # Check for non-empty tag w/ \"boxscore\" and \".htm\"\n",
    "    box_scores = [f\"https://pro-football-reference.com{l}\" for l in box_scores]\n",
    "\n",
    "    for url in box_scores:\n",
    "        save_path = os.path.join(SCORES_DIR, url.split(\"/\")[-1])\n",
    "        if os.path.exists(save_path):\n",
    "            continue\n",
    "\n",
    "        html = await get_html(url, \"#content\")\n",
    "        if not html:\n",
    "            continue\n",
    "        with open(save_path, \"w+\") as f:\n",
    "            f.write(html)"
   ]
  },
  {
   "cell_type": "code",
   "execution_count": 17,
   "id": "88d30331-8c30-4bcd-9a01-28bc416ea6cf",
   "metadata": {},
   "outputs": [],
   "source": [
    "standings_files = [s for s in standings_files if \".htm\" in s] # Checks for any non-htm error files"
   ]
  },
  {
   "cell_type": "code",
   "execution_count": 18,
   "id": "13b94f04-d943-40dc-a83f-43b8bc7309be",
   "metadata": {},
   "outputs": [],
   "source": [
    "# Loop to iterate through standings directory and scrape each individual box score page\n",
    "for f in standings_files:\n",
    "    filepath = os.path.join(STANDINGS_DIR, f)\n",
    "    await scrape_game(filepath)"
   ]
  }
 ],
 "metadata": {
  "kernelspec": {
   "display_name": "Python 3 (ipykernel)",
   "language": "python",
   "name": "python3"
  },
  "language_info": {
   "codemirror_mode": {
    "name": "ipython",
    "version": 3
   },
   "file_extension": ".py",
   "mimetype": "text/x-python",
   "name": "python",
   "nbconvert_exporter": "python",
   "pygments_lexer": "ipython3",
   "version": "3.11.4"
  }
 },
 "nbformat": 4,
 "nbformat_minor": 5
}
